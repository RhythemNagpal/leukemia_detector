{
  "nbformat": 4,
  "nbformat_minor": 0,
  "metadata": {
    "colab": {
      "name": "leukemia_detector.ipynb",
      "provenance": [],
      "collapsed_sections": [],
      "include_colab_link": true
    },
    "kernelspec": {
      "name": "python3",
      "display_name": "Python 3"
    }
  },
  "cells": [
    {
      "cell_type": "markdown",
      "metadata": {
        "id": "view-in-github",
        "colab_type": "text"
      },
      "source": [
        "<a href=\"https://colab.research.google.com/github/RhythemNagpal/leukemia_detector/blob/master/leukemia_detector.ipynb\" target=\"_parent\"><img src=\"https://colab.research.google.com/assets/colab-badge.svg\" alt=\"Open In Colab\"/></a>"
      ]
    },
    {
      "cell_type": "markdown",
      "metadata": {
        "id": "StAYz0trsTwI",
        "colab_type": "text"
      },
      "source": [
        "#Leaukemia detection using Soft Computing Techniques"
      ]
    },
    {
      "cell_type": "markdown",
      "metadata": {
        "id": "ThhGThlysrEm",
        "colab_type": "text"
      },
      "source": [
        "##Importing Libraries to be used "
      ]
    },
    {
      "cell_type": "code",
      "metadata": {
        "id": "V17amjp8rs9K",
        "colab_type": "code",
        "colab": {}
      },
      "source": [
        "import numpy as np\n",
        "import matplotlib.pyplot as plt\n",
        "import pandas as pd\n",
        "from sklearn.preprocessing import StandardScaler\n",
        "from sklearn.model_selection import train_test_split\n",
        "from sklearn.decomposition import PCA\n",
        "from sklearn.neighbors import KNeighborsClassifier\n",
        "from sklearn.tree import DecisionTreeClassifier\n",
        "from sklearn.svm import SVC\n",
        "from sklearn.linear_model import LogisticRegression\n",
        "from sklearn.ensemble import RandomForestClassifier\n",
        "from sklearn.metrics import classification_report,confusion_matrix, accuracy_score"
      ],
      "execution_count": 0,
      "outputs": []
    },
    {
      "cell_type": "code",
      "metadata": {
        "id": "QlpfZvNnsMTg",
        "colab_type": "code",
        "outputId": "86e9db5e-d1b1-4abd-af37-e7de2be06a9a",
        "colab": {
          "base_uri": "https://localhost:8080/",
          "height": 34
        }
      },
      "source": [
        "! git clone https://github.com/RhythemNagpal/leukemia_detector.git"
      ],
      "execution_count": 2048,
      "outputs": [
        {
          "output_type": "stream",
          "text": [
            "fatal: destination path 'leukemia_detector' already exists and is not an empty directory.\n"
          ],
          "name": "stdout"
        }
      ]
    },
    {
      "cell_type": "code",
      "metadata": {
        "id": "IzyYBqhYf3W_",
        "colab_type": "code",
        "outputId": "bbcb98ef-ca26-4788-d18a-a212994d3681",
        "colab": {
          "base_uri": "https://localhost:8080/",
          "height": 253
        }
      },
      "source": [
        "patients = pd.read_csv('leukemia_detector/leukemiaPatients.csv',header=None)\n",
        "patients.head()"
      ],
      "execution_count": 2049,
      "outputs": [
        {
          "output_type": "execute_result",
          "data": {
            "text/html": [
              "<div>\n",
              "<style scoped>\n",
              "    .dataframe tbody tr th:only-of-type {\n",
              "        vertical-align: middle;\n",
              "    }\n",
              "\n",
              "    .dataframe tbody tr th {\n",
              "        vertical-align: top;\n",
              "    }\n",
              "\n",
              "    .dataframe thead th {\n",
              "        text-align: right;\n",
              "    }\n",
              "</style>\n",
              "<table border=\"1\" class=\"dataframe\">\n",
              "  <thead>\n",
              "    <tr style=\"text-align: right;\">\n",
              "      <th></th>\n",
              "      <th>0</th>\n",
              "      <th>1</th>\n",
              "      <th>2</th>\n",
              "      <th>3</th>\n",
              "      <th>4</th>\n",
              "      <th>5</th>\n",
              "      <th>6</th>\n",
              "      <th>7</th>\n",
              "      <th>8</th>\n",
              "      <th>9</th>\n",
              "      <th>10</th>\n",
              "      <th>11</th>\n",
              "      <th>12</th>\n",
              "      <th>13</th>\n",
              "      <th>14</th>\n",
              "      <th>15</th>\n",
              "      <th>16</th>\n",
              "      <th>17</th>\n",
              "      <th>18</th>\n",
              "      <th>19</th>\n",
              "      <th>20</th>\n",
              "      <th>21</th>\n",
              "      <th>22</th>\n",
              "      <th>23</th>\n",
              "      <th>24</th>\n",
              "      <th>25</th>\n",
              "      <th>26</th>\n",
              "      <th>27</th>\n",
              "      <th>28</th>\n",
              "      <th>29</th>\n",
              "      <th>30</th>\n",
              "      <th>31</th>\n",
              "      <th>32</th>\n",
              "      <th>33</th>\n",
              "      <th>34</th>\n",
              "      <th>35</th>\n",
              "      <th>36</th>\n",
              "      <th>37</th>\n",
              "      <th>38</th>\n",
              "      <th>39</th>\n",
              "      <th>...</th>\n",
              "      <th>7090</th>\n",
              "      <th>7091</th>\n",
              "      <th>7092</th>\n",
              "      <th>7093</th>\n",
              "      <th>7094</th>\n",
              "      <th>7095</th>\n",
              "      <th>7096</th>\n",
              "      <th>7097</th>\n",
              "      <th>7098</th>\n",
              "      <th>7099</th>\n",
              "      <th>7100</th>\n",
              "      <th>7101</th>\n",
              "      <th>7102</th>\n",
              "      <th>7103</th>\n",
              "      <th>7104</th>\n",
              "      <th>7105</th>\n",
              "      <th>7106</th>\n",
              "      <th>7107</th>\n",
              "      <th>7108</th>\n",
              "      <th>7109</th>\n",
              "      <th>7110</th>\n",
              "      <th>7111</th>\n",
              "      <th>7112</th>\n",
              "      <th>7113</th>\n",
              "      <th>7114</th>\n",
              "      <th>7115</th>\n",
              "      <th>7116</th>\n",
              "      <th>7117</th>\n",
              "      <th>7118</th>\n",
              "      <th>7119</th>\n",
              "      <th>7120</th>\n",
              "      <th>7121</th>\n",
              "      <th>7122</th>\n",
              "      <th>7123</th>\n",
              "      <th>7124</th>\n",
              "      <th>7125</th>\n",
              "      <th>7126</th>\n",
              "      <th>7127</th>\n",
              "      <th>7128</th>\n",
              "      <th>7129</th>\n",
              "    </tr>\n",
              "  </thead>\n",
              "  <tbody>\n",
              "    <tr>\n",
              "      <th>0</th>\n",
              "      <td>1</td>\n",
              "      <td>-4</td>\n",
              "      <td>-116</td>\n",
              "      <td>-125</td>\n",
              "      <td>241</td>\n",
              "      <td>-191</td>\n",
              "      <td>-411</td>\n",
              "      <td>-31</td>\n",
              "      <td>-240</td>\n",
              "      <td>150</td>\n",
              "      <td>24</td>\n",
              "      <td>19</td>\n",
              "      <td>-669</td>\n",
              "      <td>-664</td>\n",
              "      <td>-311</td>\n",
              "      <td>297</td>\n",
              "      <td>353</td>\n",
              "      <td>-96</td>\n",
              "      <td>-291</td>\n",
              "      <td>17878</td>\n",
              "      <td>21</td>\n",
              "      <td>218</td>\n",
              "      <td>-103</td>\n",
              "      <td>52</td>\n",
              "      <td>-242</td>\n",
              "      <td>134</td>\n",
              "      <td>-105</td>\n",
              "      <td>-207</td>\n",
              "      <td>-42</td>\n",
              "      <td>-59</td>\n",
              "      <td>-39</td>\n",
              "      <td>-183</td>\n",
              "      <td>77</td>\n",
              "      <td>-495</td>\n",
              "      <td>-124</td>\n",
              "      <td>-111</td>\n",
              "      <td>51</td>\n",
              "      <td>132</td>\n",
              "      <td>647</td>\n",
              "      <td>1065</td>\n",
              "      <td>...</td>\n",
              "      <td>303</td>\n",
              "      <td>-559</td>\n",
              "      <td>317</td>\n",
              "      <td>585</td>\n",
              "      <td>546</td>\n",
              "      <td>328</td>\n",
              "      <td>16876</td>\n",
              "      <td>13859</td>\n",
              "      <td>1102</td>\n",
              "      <td>375</td>\n",
              "      <td>-105</td>\n",
              "      <td>10547</td>\n",
              "      <td>10235</td>\n",
              "      <td>685</td>\n",
              "      <td>4431</td>\n",
              "      <td>-210</td>\n",
              "      <td>18</td>\n",
              "      <td>403</td>\n",
              "      <td>-31</td>\n",
              "      <td>207</td>\n",
              "      <td>135</td>\n",
              "      <td>86</td>\n",
              "      <td>-228</td>\n",
              "      <td>216</td>\n",
              "      <td>120</td>\n",
              "      <td>247</td>\n",
              "      <td>399</td>\n",
              "      <td>-220</td>\n",
              "      <td>-1651</td>\n",
              "      <td>429</td>\n",
              "      <td>173</td>\n",
              "      <td>755</td>\n",
              "      <td>-23</td>\n",
              "      <td>573</td>\n",
              "      <td>42</td>\n",
              "      <td>987</td>\n",
              "      <td>279</td>\n",
              "      <td>22</td>\n",
              "      <td>662</td>\n",
              "      <td>-46</td>\n",
              "    </tr>\n",
              "    <tr>\n",
              "      <th>1</th>\n",
              "      <td>1</td>\n",
              "      <td>15</td>\n",
              "      <td>-114</td>\n",
              "      <td>2</td>\n",
              "      <td>193</td>\n",
              "      <td>-51</td>\n",
              "      <td>-155</td>\n",
              "      <td>29</td>\n",
              "      <td>-105</td>\n",
              "      <td>42</td>\n",
              "      <td>524</td>\n",
              "      <td>-70</td>\n",
              "      <td>-344</td>\n",
              "      <td>-285</td>\n",
              "      <td>-53</td>\n",
              "      <td>38</td>\n",
              "      <td>-142</td>\n",
              "      <td>-125</td>\n",
              "      <td>-118</td>\n",
              "      <td>26052</td>\n",
              "      <td>-67</td>\n",
              "      <td>121</td>\n",
              "      <td>-69</td>\n",
              "      <td>6</td>\n",
              "      <td>-198</td>\n",
              "      <td>61</td>\n",
              "      <td>-93</td>\n",
              "      <td>-190</td>\n",
              "      <td>-18</td>\n",
              "      <td>-49</td>\n",
              "      <td>-66</td>\n",
              "      <td>-117</td>\n",
              "      <td>-38</td>\n",
              "      <td>-262</td>\n",
              "      <td>-106</td>\n",
              "      <td>-133</td>\n",
              "      <td>-95</td>\n",
              "      <td>-22</td>\n",
              "      <td>202</td>\n",
              "      <td>442</td>\n",
              "      <td>...</td>\n",
              "      <td>99</td>\n",
              "      <td>-17</td>\n",
              "      <td>190</td>\n",
              "      <td>119</td>\n",
              "      <td>390</td>\n",
              "      <td>151</td>\n",
              "      <td>9184</td>\n",
              "      <td>19228</td>\n",
              "      <td>374</td>\n",
              "      <td>61</td>\n",
              "      <td>131</td>\n",
              "      <td>9355</td>\n",
              "      <td>11461</td>\n",
              "      <td>-95</td>\n",
              "      <td>1028</td>\n",
              "      <td>-142</td>\n",
              "      <td>-26</td>\n",
              "      <td>58</td>\n",
              "      <td>-2</td>\n",
              "      <td>113</td>\n",
              "      <td>-30</td>\n",
              "      <td>54</td>\n",
              "      <td>-71</td>\n",
              "      <td>95</td>\n",
              "      <td>59</td>\n",
              "      <td>19</td>\n",
              "      <td>45</td>\n",
              "      <td>-78</td>\n",
              "      <td>-887</td>\n",
              "      <td>314</td>\n",
              "      <td>173</td>\n",
              "      <td>492</td>\n",
              "      <td>54</td>\n",
              "      <td>277</td>\n",
              "      <td>-13</td>\n",
              "      <td>279</td>\n",
              "      <td>51</td>\n",
              "      <td>6</td>\n",
              "      <td>2484</td>\n",
              "      <td>-2</td>\n",
              "    </tr>\n",
              "    <tr>\n",
              "      <th>2</th>\n",
              "      <td>1</td>\n",
              "      <td>-318</td>\n",
              "      <td>-192</td>\n",
              "      <td>-95</td>\n",
              "      <td>312</td>\n",
              "      <td>-139</td>\n",
              "      <td>-344</td>\n",
              "      <td>324</td>\n",
              "      <td>-237</td>\n",
              "      <td>105</td>\n",
              "      <td>167</td>\n",
              "      <td>-50</td>\n",
              "      <td>-820</td>\n",
              "      <td>-231</td>\n",
              "      <td>-273</td>\n",
              "      <td>208</td>\n",
              "      <td>99</td>\n",
              "      <td>-126</td>\n",
              "      <td>-534</td>\n",
              "      <td>11983</td>\n",
              "      <td>-81</td>\n",
              "      <td>114</td>\n",
              "      <td>-67</td>\n",
              "      <td>32</td>\n",
              "      <td>-162</td>\n",
              "      <td>175</td>\n",
              "      <td>-20</td>\n",
              "      <td>-109</td>\n",
              "      <td>31</td>\n",
              "      <td>-23</td>\n",
              "      <td>-21</td>\n",
              "      <td>-246</td>\n",
              "      <td>-31</td>\n",
              "      <td>-589</td>\n",
              "      <td>-353</td>\n",
              "      <td>-314</td>\n",
              "      <td>-435</td>\n",
              "      <td>135</td>\n",
              "      <td>423</td>\n",
              "      <td>45</td>\n",
              "      <td>...</td>\n",
              "      <td>233</td>\n",
              "      <td>12</td>\n",
              "      <td>1034</td>\n",
              "      <td>55</td>\n",
              "      <td>630</td>\n",
              "      <td>1835</td>\n",
              "      <td>21787</td>\n",
              "      <td>15527</td>\n",
              "      <td>385</td>\n",
              "      <td>196</td>\n",
              "      <td>-253</td>\n",
              "      <td>13538</td>\n",
              "      <td>14783</td>\n",
              "      <td>104</td>\n",
              "      <td>3624</td>\n",
              "      <td>-242</td>\n",
              "      <td>-97</td>\n",
              "      <td>386</td>\n",
              "      <td>59</td>\n",
              "      <td>308</td>\n",
              "      <td>32</td>\n",
              "      <td>60</td>\n",
              "      <td>-326</td>\n",
              "      <td>139</td>\n",
              "      <td>-118</td>\n",
              "      <td>247</td>\n",
              "      <td>192</td>\n",
              "      <td>-394</td>\n",
              "      <td>-1634</td>\n",
              "      <td>208</td>\n",
              "      <td>225</td>\n",
              "      <td>737</td>\n",
              "      <td>63</td>\n",
              "      <td>472</td>\n",
              "      <td>33</td>\n",
              "      <td>737</td>\n",
              "      <td>227</td>\n",
              "      <td>-9</td>\n",
              "      <td>371</td>\n",
              "      <td>-31</td>\n",
              "    </tr>\n",
              "    <tr>\n",
              "      <th>3</th>\n",
              "      <td>1</td>\n",
              "      <td>-32</td>\n",
              "      <td>-49</td>\n",
              "      <td>49</td>\n",
              "      <td>230</td>\n",
              "      <td>-367</td>\n",
              "      <td>-508</td>\n",
              "      <td>-349</td>\n",
              "      <td>-194</td>\n",
              "      <td>34</td>\n",
              "      <td>-56</td>\n",
              "      <td>147</td>\n",
              "      <td>-841</td>\n",
              "      <td>-657</td>\n",
              "      <td>-240</td>\n",
              "      <td>-15</td>\n",
              "      <td>227</td>\n",
              "      <td>-166</td>\n",
              "      <td>-453</td>\n",
              "      <td>23508</td>\n",
              "      <td>-126</td>\n",
              "      <td>61</td>\n",
              "      <td>-35</td>\n",
              "      <td>45</td>\n",
              "      <td>-94</td>\n",
              "      <td>125</td>\n",
              "      <td>-125</td>\n",
              "      <td>-171</td>\n",
              "      <td>66</td>\n",
              "      <td>-56</td>\n",
              "      <td>-68</td>\n",
              "      <td>-217</td>\n",
              "      <td>-48</td>\n",
              "      <td>-775</td>\n",
              "      <td>-235</td>\n",
              "      <td>-266</td>\n",
              "      <td>-125</td>\n",
              "      <td>85</td>\n",
              "      <td>295</td>\n",
              "      <td>9042</td>\n",
              "      <td>...</td>\n",
              "      <td>187</td>\n",
              "      <td>-453</td>\n",
              "      <td>338</td>\n",
              "      <td>-39</td>\n",
              "      <td>358</td>\n",
              "      <td>391</td>\n",
              "      <td>21617</td>\n",
              "      <td>17676</td>\n",
              "      <td>852</td>\n",
              "      <td>74</td>\n",
              "      <td>245</td>\n",
              "      <td>10144</td>\n",
              "      <td>9846</td>\n",
              "      <td>190</td>\n",
              "      <td>2633</td>\n",
              "      <td>-230</td>\n",
              "      <td>20</td>\n",
              "      <td>207</td>\n",
              "      <td>-20</td>\n",
              "      <td>132</td>\n",
              "      <td>27</td>\n",
              "      <td>53</td>\n",
              "      <td>-205</td>\n",
              "      <td>319</td>\n",
              "      <td>149</td>\n",
              "      <td>281</td>\n",
              "      <td>306</td>\n",
              "      <td>-442</td>\n",
              "      <td>-2404</td>\n",
              "      <td>385</td>\n",
              "      <td>36</td>\n",
              "      <td>592</td>\n",
              "      <td>57</td>\n",
              "      <td>215</td>\n",
              "      <td>-22</td>\n",
              "      <td>588</td>\n",
              "      <td>361</td>\n",
              "      <td>-26</td>\n",
              "      <td>133</td>\n",
              "      <td>-32</td>\n",
              "    </tr>\n",
              "    <tr>\n",
              "      <th>4</th>\n",
              "      <td>1</td>\n",
              "      <td>-124</td>\n",
              "      <td>-79</td>\n",
              "      <td>-37</td>\n",
              "      <td>330</td>\n",
              "      <td>-188</td>\n",
              "      <td>-423</td>\n",
              "      <td>-31</td>\n",
              "      <td>-223</td>\n",
              "      <td>-82</td>\n",
              "      <td>176</td>\n",
              "      <td>226</td>\n",
              "      <td>-1010</td>\n",
              "      <td>-513</td>\n",
              "      <td>-333</td>\n",
              "      <td>30</td>\n",
              "      <td>177</td>\n",
              "      <td>-69</td>\n",
              "      <td>-411</td>\n",
              "      <td>17996</td>\n",
              "      <td>20</td>\n",
              "      <td>371</td>\n",
              "      <td>-68</td>\n",
              "      <td>6</td>\n",
              "      <td>-134</td>\n",
              "      <td>111</td>\n",
              "      <td>-44</td>\n",
              "      <td>-232</td>\n",
              "      <td>-7</td>\n",
              "      <td>-144</td>\n",
              "      <td>-56</td>\n",
              "      <td>-217</td>\n",
              "      <td>17</td>\n",
              "      <td>-657</td>\n",
              "      <td>-332</td>\n",
              "      <td>-277</td>\n",
              "      <td>-36</td>\n",
              "      <td>123</td>\n",
              "      <td>532</td>\n",
              "      <td>5199</td>\n",
              "      <td>...</td>\n",
              "      <td>385</td>\n",
              "      <td>-1025</td>\n",
              "      <td>705</td>\n",
              "      <td>9230</td>\n",
              "      <td>665</td>\n",
              "      <td>925</td>\n",
              "      <td>24514</td>\n",
              "      <td>14574</td>\n",
              "      <td>1338</td>\n",
              "      <td>67</td>\n",
              "      <td>-56</td>\n",
              "      <td>10373</td>\n",
              "      <td>9002</td>\n",
              "      <td>745</td>\n",
              "      <td>2842</td>\n",
              "      <td>-348</td>\n",
              "      <td>111</td>\n",
              "      <td>330</td>\n",
              "      <td>-19</td>\n",
              "      <td>295</td>\n",
              "      <td>80</td>\n",
              "      <td>109</td>\n",
              "      <td>-54</td>\n",
              "      <td>388</td>\n",
              "      <td>172</td>\n",
              "      <td>292</td>\n",
              "      <td>205</td>\n",
              "      <td>-396</td>\n",
              "      <td>-2525</td>\n",
              "      <td>688</td>\n",
              "      <td>348</td>\n",
              "      <td>938</td>\n",
              "      <td>-15</td>\n",
              "      <td>433</td>\n",
              "      <td>-2</td>\n",
              "      <td>1170</td>\n",
              "      <td>284</td>\n",
              "      <td>39</td>\n",
              "      <td>298</td>\n",
              "      <td>-3</td>\n",
              "    </tr>\n",
              "  </tbody>\n",
              "</table>\n",
              "<p>5 rows × 7130 columns</p>\n",
              "</div>"
            ],
            "text/plain": [
              "   0     1     2     3     4     5     ...  7124  7125  7126  7127  7128  7129\n",
              "0     1    -4  -116  -125   241  -191  ...    42   987   279    22   662   -46\n",
              "1     1    15  -114     2   193   -51  ...   -13   279    51     6  2484    -2\n",
              "2     1  -318  -192   -95   312  -139  ...    33   737   227    -9   371   -31\n",
              "3     1   -32   -49    49   230  -367  ...   -22   588   361   -26   133   -32\n",
              "4     1  -124   -79   -37   330  -188  ...    -2  1170   284    39   298    -3\n",
              "\n",
              "[5 rows x 7130 columns]"
            ]
          },
          "metadata": {
            "tags": []
          },
          "execution_count": 2049
        }
      ]
    },
    {
      "cell_type": "code",
      "metadata": {
        "id": "ZisKxaF5gVSm",
        "colab_type": "code",
        "outputId": "fd305eec-ef76-4559-c0bb-b325755f26b6",
        "colab": {
          "base_uri": "https://localhost:8080/",
          "height": 51
        }
      },
      "source": [
        "x=patients.iloc[:,1:]\n",
        "y=patients.iloc[:,0]\n",
        "acc=[[0]*5]*2\n",
        "acc=np.zeros((2,5))\n",
        "print(\"Shape of Feature set\",x.shape)\n",
        "print(\"Shape of target\",y.shape)"
      ],
      "execution_count": 2050,
      "outputs": [
        {
          "output_type": "stream",
          "text": [
            "Shape of Feature set (72, 7129)\n",
            "Shape of target (72,)\n"
          ],
          "name": "stdout"
        }
      ]
    },
    {
      "cell_type": "markdown",
      "metadata": {
        "id": "Ncr_x947QAv6",
        "colab_type": "text"
      },
      "source": [
        "##Train Test Split"
      ]
    },
    {
      "cell_type": "code",
      "metadata": {
        "id": "TGNz3cx2k5pP",
        "colab_type": "code",
        "colab": {}
      },
      "source": [
        "X_train, X_test, y_train, y_test = train_test_split(x, y, test_size=0.3,random_state=0)"
      ],
      "execution_count": 0,
      "outputs": []
    },
    {
      "cell_type": "markdown",
      "metadata": {
        "id": "A9UpBP35QEbo",
        "colab_type": "text"
      },
      "source": [
        "##Scalling Features"
      ]
    },
    {
      "cell_type": "code",
      "metadata": {
        "id": "ih2Mi0j2QIYf",
        "colab_type": "code",
        "colab": {}
      },
      "source": [
        "sc=StandardScaler()\n",
        "X_train =sc.fit_transform(X_train)\n",
        "X_test = sc.fit_transform(X_test)"
      ],
      "execution_count": 0,
      "outputs": []
    },
    {
      "cell_type": "markdown",
      "metadata": {
        "id": "_G0kFHI7jWfp",
        "colab_type": "text"
      },
      "source": [
        "##Modals"
      ]
    },
    {
      "cell_type": "markdown",
      "metadata": {
        "id": "zYfFqrf4loX-",
        "colab_type": "text"
      },
      "source": [
        "###Logistic Regression"
      ]
    },
    {
      "cell_type": "code",
      "metadata": {
        "id": "8d-Oo8eil83l",
        "colab_type": "code",
        "outputId": "de07d3d6-1a12-417a-c3fc-e99d60be1a1b",
        "colab": {
          "base_uri": "https://localhost:8080/",
          "height": 102
        }
      },
      "source": [
        "logreg = LogisticRegression(penalty='l2',class_weight='balanced',C=50)\n",
        "logreg.fit(X_train, y_train)"
      ],
      "execution_count": 2053,
      "outputs": [
        {
          "output_type": "execute_result",
          "data": {
            "text/plain": [
              "LogisticRegression(C=50, class_weight='balanced', dual=False,\n",
              "                   fit_intercept=True, intercept_scaling=1, l1_ratio=None,\n",
              "                   max_iter=100, multi_class='auto', n_jobs=None, penalty='l2',\n",
              "                   random_state=None, solver='lbfgs', tol=0.0001, verbose=0,\n",
              "                   warm_start=False)"
            ]
          },
          "metadata": {
            "tags": []
          },
          "execution_count": 2053
        }
      ]
    },
    {
      "cell_type": "code",
      "metadata": {
        "id": "ndPGeua3mCCx",
        "colab_type": "code",
        "outputId": "69ca1b45-1dac-41c2-be1c-e824382c9fdc",
        "colab": {
          "base_uri": "https://localhost:8080/",
          "height": 119
        }
      },
      "source": [
        "pred_train_logreg=logreg.predict(X_train)\n",
        "pred_test_logreg=logreg.predict(X_test)\n",
        "print(\"Train set predictions:\\n{}\".format(pred_train_logreg))\n",
        "print(\"Test set predictions:\\n{}\".format(pred_test_logreg))"
      ],
      "execution_count": 2054,
      "outputs": [
        {
          "output_type": "stream",
          "text": [
            "Train set predictions:\n",
            "[ 1 -1  1  1 -1 -1  1 -1 -1 -1 -1 -1  1 -1  1 -1 -1 -1  1  1  1  1  1  1\n",
            " -1  1  1  1 -1  1 -1 -1 -1 -1 -1  1 -1  1 -1  1  1  1 -1  1  1 -1 -1 -1\n",
            " -1 -1]\n",
            "Test set predictions:\n",
            "[ 1  1 -1  1 -1 -1  1  1  1 -1  1 -1 -1 -1 -1 -1 -1 -1 -1  1  1 -1]\n"
          ],
          "name": "stdout"
        }
      ]
    },
    {
      "cell_type": "code",
      "metadata": {
        "id": "qrzuEzICmEMm",
        "colab_type": "code",
        "outputId": "afd989f4-cca4-4712-a25e-05954fc7607a",
        "colab": {
          "base_uri": "https://localhost:8080/",
          "height": 85
        }
      },
      "source": [
        "print(\"Accuracy of Logistic Regression classifier on train set: %.2f\"%accuracy_score(pred_train_logreg,y_train))\n",
        "print(\"Accuracy of Logistic Regression classifier on test set: %.2f\"%accuracy_score(pred_test_logreg,y_test))\n",
        "acc[0][0]=accuracy_score(pred_train_logreg,y_train)\n",
        "acc[1][0]=accuracy_score(pred_test_logreg,y_test)\n",
        "print(acc)"
      ],
      "execution_count": 2055,
      "outputs": [
        {
          "output_type": "stream",
          "text": [
            "Accuracy of Logistic Regression classifier on train set: 1.00\n",
            "Accuracy of Logistic Regression classifier on test set: 0.82\n",
            "[[1.         0.         0.         0.         0.        ]\n",
            " [0.81818182 0.         0.         0.         0.        ]]\n"
          ],
          "name": "stdout"
        }
      ]
    },
    {
      "cell_type": "code",
      "metadata": {
        "id": "faCGNV6FmGys",
        "colab_type": "code",
        "outputId": "bd75c60b-1a9b-4865-bad8-aa30b47800bd",
        "colab": {
          "base_uri": "https://localhost:8080/",
          "height": 204
        }
      },
      "source": [
        "print(confusion_matrix(y_test, pred_test_logreg))\n",
        "print(classification_report(y_test, pred_test_logreg))"
      ],
      "execution_count": 2056,
      "outputs": [
        {
          "output_type": "stream",
          "text": [
            "[[13  4]\n",
            " [ 0  5]]\n",
            "              precision    recall  f1-score   support\n",
            "\n",
            "          -1       1.00      0.76      0.87        17\n",
            "           1       0.56      1.00      0.71         5\n",
            "\n",
            "    accuracy                           0.82        22\n",
            "   macro avg       0.78      0.88      0.79        22\n",
            "weighted avg       0.90      0.82      0.83        22\n",
            "\n"
          ],
          "name": "stdout"
        }
      ]
    },
    {
      "cell_type": "markdown",
      "metadata": {
        "id": "NniBBfpmjc0T",
        "colab_type": "text"
      },
      "source": [
        "###Principal Component Analysis"
      ]
    },
    {
      "cell_type": "code",
      "metadata": {
        "id": "f-CEgnNgjm17",
        "colab_type": "code",
        "colab": {}
      },
      "source": [
        "pca = PCA(n_components=5)\n",
        "X_train = pca.fit_transform(X_train)\n",
        "X_test = pca.transform(X_test)"
      ],
      "execution_count": 0,
      "outputs": []
    },
    {
      "cell_type": "markdown",
      "metadata": {
        "id": "-xzrS9w88SOK",
        "colab_type": "text"
      },
      "source": [
        "###Support Vector Machine"
      ]
    },
    {
      "cell_type": "code",
      "metadata": {
        "id": "gnJiNkDH8ny5",
        "colab_type": "code",
        "outputId": "f5c833ad-086c-4df7-febe-5a11e01e642a",
        "colab": {
          "base_uri": "https://localhost:8080/",
          "height": 85
        }
      },
      "source": [
        "svm = SVC(kernel='rbf',degree=15)\n",
        "svm.fit(X_train, y_train)"
      ],
      "execution_count": 2058,
      "outputs": [
        {
          "output_type": "execute_result",
          "data": {
            "text/plain": [
              "SVC(C=1.0, break_ties=False, cache_size=200, class_weight=None, coef0=0.0,\n",
              "    decision_function_shape='ovr', degree=15, gamma='scale', kernel='rbf',\n",
              "    max_iter=-1, probability=False, random_state=None, shrinking=True,\n",
              "    tol=0.001, verbose=False)"
            ]
          },
          "metadata": {
            "tags": []
          },
          "execution_count": 2058
        }
      ]
    },
    {
      "cell_type": "code",
      "metadata": {
        "id": "A0yk_AUx9Pl6",
        "colab_type": "code",
        "outputId": "90125e71-1c58-4c25-f98d-7f7eb71117b4",
        "colab": {
          "base_uri": "https://localhost:8080/",
          "height": 119
        }
      },
      "source": [
        "pred_train_svm=svm.predict(X_train)\n",
        "pred_test_svm=svm.predict(X_test)\n",
        "print(\"Train set predictions:\\n{}\".format(pred_train_svm))\n",
        "print(\"Test set predictions:\\n{}\".format(pred_test_svm))"
      ],
      "execution_count": 2059,
      "outputs": [
        {
          "output_type": "stream",
          "text": [
            "Train set predictions:\n",
            "[ 1 -1  1  1 -1 -1  1 -1 -1 -1 -1 -1  1 -1  1 -1 -1 -1  1  1  1  1 -1 -1\n",
            " -1  1  1  1 -1 -1 -1 -1 -1 -1 -1 -1 -1  1 -1  1  1  1 -1  1  1 -1 -1 -1\n",
            " -1 -1]\n",
            "Test set predictions:\n",
            "[ 1 -1 -1  1 -1 -1  1 -1  1 -1  1 -1 -1 -1 -1 -1 -1 -1 -1  1 -1 -1]\n"
          ],
          "name": "stdout"
        }
      ]
    },
    {
      "cell_type": "code",
      "metadata": {
        "id": "6eTY0k9S9U4-",
        "colab_type": "code",
        "outputId": "a3142bd6-5a4d-4f07-9b82-090df5a04eca",
        "colab": {
          "base_uri": "https://localhost:8080/",
          "height": 51
        }
      },
      "source": [
        "print(\"Accuracy of SVM classifier on train set: %.2f\"%accuracy_score(pred_train_svm,y_train))\n",
        "print(\"Accuracy of SVM classifier on test set: %.2f\"%accuracy_score(pred_test_svm,y_test))\n",
        "acc[0][1]=accuracy_score(pred_train_svm,y_train)\n",
        "acc[1][1]=accuracy_score(pred_test_svm,y_test)"
      ],
      "execution_count": 2060,
      "outputs": [
        {
          "output_type": "stream",
          "text": [
            "Accuracy of SVM classifier on train set: 0.92\n",
            "Accuracy of SVM classifier on test set: 0.86\n"
          ],
          "name": "stdout"
        }
      ]
    },
    {
      "cell_type": "code",
      "metadata": {
        "id": "_Qyb0Huo9ZdV",
        "colab_type": "code",
        "outputId": "94c9a187-d1cf-4a64-edff-9f29a641a3f2",
        "colab": {
          "base_uri": "https://localhost:8080/",
          "height": 204
        }
      },
      "source": [
        "print(confusion_matrix(y_test, pred_test_svm))\n",
        "print(classification_report(y_test, pred_test_svm))"
      ],
      "execution_count": 2061,
      "outputs": [
        {
          "output_type": "stream",
          "text": [
            "[[15  2]\n",
            " [ 1  4]]\n",
            "              precision    recall  f1-score   support\n",
            "\n",
            "          -1       0.94      0.88      0.91        17\n",
            "           1       0.67      0.80      0.73         5\n",
            "\n",
            "    accuracy                           0.86        22\n",
            "   macro avg       0.80      0.84      0.82        22\n",
            "weighted avg       0.88      0.86      0.87        22\n",
            "\n"
          ],
          "name": "stdout"
        }
      ]
    },
    {
      "cell_type": "markdown",
      "metadata": {
        "id": "gSMuVYqB9dom",
        "colab_type": "text"
      },
      "source": [
        "###KNearestNeighbours"
      ]
    },
    {
      "cell_type": "code",
      "metadata": {
        "id": "vaTrGaHJ9jfn",
        "colab_type": "code",
        "outputId": "1ab29e31-9e00-4eae-c37f-c0fc02e27582",
        "colab": {
          "base_uri": "https://localhost:8080/",
          "height": 68
        }
      },
      "source": [
        "knn=KNeighborsClassifier(n_neighbors=4)\n",
        "knn.fit(X_train,y_train)"
      ],
      "execution_count": 2062,
      "outputs": [
        {
          "output_type": "execute_result",
          "data": {
            "text/plain": [
              "KNeighborsClassifier(algorithm='auto', leaf_size=30, metric='minkowski',\n",
              "                     metric_params=None, n_jobs=None, n_neighbors=4, p=2,\n",
              "                     weights='uniform')"
            ]
          },
          "metadata": {
            "tags": []
          },
          "execution_count": 2062
        }
      ]
    },
    {
      "cell_type": "code",
      "metadata": {
        "id": "pu_09Ni19l6m",
        "colab_type": "code",
        "outputId": "6383efcd-0334-4f61-bc00-2cb32ce30550",
        "colab": {
          "base_uri": "https://localhost:8080/",
          "height": 119
        }
      },
      "source": [
        "pred_train_knn=knn.predict(X_train)\n",
        "pred_test_knn=knn.predict(X_test)\n",
        "print(\"Train set predictions:\\n{}\".format(pred_train_knn))\n",
        "print(\"Test set predictions:\\n{}\".format(pred_test_knn))"
      ],
      "execution_count": 2063,
      "outputs": [
        {
          "output_type": "stream",
          "text": [
            "Train set predictions:\n",
            "[ 1 -1  1  1 -1 -1  1 -1 -1 -1 -1 -1  1 -1  1 -1 -1 -1  1  1 -1  1  1  1\n",
            " -1  1  1  1 -1 -1 -1 -1 -1 -1 -1 -1 -1  1 -1  1  1  1 -1  1  1 -1 -1 -1\n",
            " -1 -1]\n",
            "Test set predictions:\n",
            "[ 1 -1 -1  1 -1 -1  1 -1  1 -1  1 -1 -1 -1 -1 -1 -1 -1 -1  1 -1 -1]\n"
          ],
          "name": "stdout"
        }
      ]
    },
    {
      "cell_type": "code",
      "metadata": {
        "id": "U3rFJzgs9oCu",
        "colab_type": "code",
        "outputId": "d65bb5b7-d1a6-4d32-8c22-dfe538881ca6",
        "colab": {
          "base_uri": "https://localhost:8080/",
          "height": 51
        }
      },
      "source": [
        "print(\"Accuracy of KNearest Neighbour classifier on train set: %.2f\"%accuracy_score(pred_train_knn,y_train))\n",
        "print(\"Accuracy of KNearest Neighbour classifier on test set: %.2f\"%accuracy_score(pred_test_knn,y_test))\n",
        "acc[0][2]=accuracy_score(pred_train_knn,y_train)\n",
        "acc[1][2]=accuracy_score(pred_test_knn,y_test)"
      ],
      "execution_count": 2064,
      "outputs": [
        {
          "output_type": "stream",
          "text": [
            "Accuracy of KNearest Neighbour classifier on train set: 0.94\n",
            "Accuracy of KNearest Neighbour classifier on test set: 0.86\n"
          ],
          "name": "stdout"
        }
      ]
    },
    {
      "cell_type": "code",
      "metadata": {
        "id": "BwAZnbya97Gk",
        "colab_type": "code",
        "outputId": "f607f222-2cbd-4e0d-e7fa-a8eab13c9842",
        "colab": {
          "base_uri": "https://localhost:8080/",
          "height": 381
        }
      },
      "source": [
        "k_range = range(1, 20)\n",
        "scores = []\n",
        "for k in k_range:\n",
        "    knn = KNeighborsClassifier(n_neighbors = k)\n",
        "    knn.fit(X_train, y_train)\n",
        "    scores.append(knn.score(X_test, y_test))\n",
        "plt.figure()\n",
        "plt.xlabel('k')\n",
        "plt.ylabel('accuracy')\n",
        "plt.scatter(k_range, scores)\n",
        "plt.xticks([0,5,10,15,20])"
      ],
      "execution_count": 2065,
      "outputs": [
        {
          "output_type": "execute_result",
          "data": {
            "text/plain": [
              "([<matplotlib.axis.XTick at 0x7f4ef3380fd0>,\n",
              "  <matplotlib.axis.XTick at 0x7f4ef3380c50>,\n",
              "  <matplotlib.axis.XTick at 0x7f4ef33e3a58>,\n",
              "  <matplotlib.axis.XTick at 0x7f4ef3402cf8>,\n",
              "  <matplotlib.axis.XTick at 0x7f4ef31541d0>],\n",
              " <a list of 5 Text major ticklabel objects>)"
            ]
          },
          "metadata": {
            "tags": []
          },
          "execution_count": 2065
        },
        {
          "output_type": "display_data",
          "data": {
            "image/png": "[encoded data removed]",
            "text/plain": [
              "<Figure size 432x288 with 1 Axes>"
            ]
          },
          "metadata": {
            "tags": []
          }
        }
      ]
    },
    {
      "cell_type": "code",
      "metadata": {
        "id": "ob7RjoZh-AzG",
        "colab_type": "code",
        "outputId": "3493b8ee-bab3-49b5-c8e3-a7f82ce16be9",
        "colab": {
          "base_uri": "https://localhost:8080/",
          "height": 204
        }
      },
      "source": [
        "print(confusion_matrix(y_test, pred_test_knn))\n",
        "print(classification_report(y_test, pred_test_knn))"
      ],
      "execution_count": 2066,
      "outputs": [
        {
          "output_type": "stream",
          "text": [
            "[[15  2]\n",
            " [ 1  4]]\n",
            "              precision    recall  f1-score   support\n",
            "\n",
            "          -1       0.94      0.88      0.91        17\n",
            "           1       0.67      0.80      0.73         5\n",
            "\n",
            "    accuracy                           0.86        22\n",
            "   macro avg       0.80      0.84      0.82        22\n",
            "weighted avg       0.88      0.86      0.87        22\n",
            "\n"
          ],
          "name": "stdout"
        }
      ]
    },
    {
      "cell_type": "markdown",
      "metadata": {
        "id": "k33KruQiNkWu",
        "colab_type": "text"
      },
      "source": [
        "###Decision Tree"
      ]
    },
    {
      "cell_type": "code",
      "metadata": {
        "id": "5bOhadi5No3G",
        "colab_type": "code",
        "outputId": "188b24f6-8f57-4a75-f4a5-ce5b919c9458",
        "colab": {
          "base_uri": "https://localhost:8080/",
          "height": 119
        }
      },
      "source": [
        "dtree = DecisionTreeClassifier(criterion='gini',max_features=5,min_samples_split=2)\n",
        "dtree.fit(X_train, y_train)"
      ],
      "execution_count": 2067,
      "outputs": [
        {
          "output_type": "execute_result",
          "data": {
            "text/plain": [
              "DecisionTreeClassifier(ccp_alpha=0.0, class_weight=None, criterion='gini',\n",
              "                       max_depth=None, max_features=5, max_leaf_nodes=None,\n",
              "                       min_impurity_decrease=0.0, min_impurity_split=None,\n",
              "                       min_samples_leaf=1, min_samples_split=2,\n",
              "                       min_weight_fraction_leaf=0.0, presort='deprecated',\n",
              "                       random_state=None, splitter='best')"
            ]
          },
          "metadata": {
            "tags": []
          },
          "execution_count": 2067
        }
      ]
    },
    {
      "cell_type": "code",
      "metadata": {
        "id": "-qwIP64pNxop",
        "colab_type": "code",
        "outputId": "ad74d26e-8b6a-48e7-a1e8-9e9c258e2588",
        "colab": {
          "base_uri": "https://localhost:8080/",
          "height": 119
        }
      },
      "source": [
        "pred_train_dtree=dtree.predict(X_train)\n",
        "pred_test_dtree=dtree.predict(X_test)\n",
        "print(\"Train set predictions:\\n{}\".format(pred_train_dtree))\n",
        "print(\"Test set predictions:\\n{}\".format(pred_test_dtree))"
      ],
      "execution_count": 2068,
      "outputs": [
        {
          "output_type": "stream",
          "text": [
            "Train set predictions:\n",
            "[ 1 -1  1  1 -1 -1  1 -1 -1 -1 -1 -1  1 -1  1 -1 -1 -1  1  1  1  1  1  1\n",
            " -1  1  1  1 -1  1 -1 -1 -1 -1 -1  1 -1  1 -1  1  1  1 -1  1  1 -1 -1 -1\n",
            " -1 -1]\n",
            "Test set predictions:\n",
            "[ 1 -1 -1 -1 -1 -1  1 -1 -1 -1  1 -1 -1  1 -1  1 -1 -1 -1  1  1 -1]\n"
          ],
          "name": "stdout"
        }
      ]
    },
    {
      "cell_type": "code",
      "metadata": {
        "id": "HO9MF_YhOR40",
        "colab_type": "code",
        "outputId": "292da709-3417-4a69-c63c-26d6dd4c28a1",
        "colab": {
          "base_uri": "https://localhost:8080/",
          "height": 51
        }
      },
      "source": [
        "print(\"Accuracy of Decision Tree classifier on train set: %.2f\"%accuracy_score(pred_train_dtree,y_train))\n",
        "print(\"Accuracy of Decision Tree classifier on test set: %.2f\"%accuracy_score(pred_test_dtree,y_test))\n",
        "acc[0][3]=accuracy_score(pred_train_dtree,y_train)\n",
        "acc[1][3]=accuracy_score(pred_test_dtree,y_test)"
      ],
      "execution_count": 2069,
      "outputs": [
        {
          "output_type": "stream",
          "text": [
            "Accuracy of Decision Tree classifier on train set: 1.00\n",
            "Accuracy of Decision Tree classifier on test set: 0.73\n"
          ],
          "name": "stdout"
        }
      ]
    },
    {
      "cell_type": "code",
      "metadata": {
        "id": "sALe1u3VOT54",
        "colab_type": "code",
        "outputId": "9a73a87d-864b-44c1-fbba-7f5945901db2",
        "colab": {
          "base_uri": "https://localhost:8080/",
          "height": 204
        }
      },
      "source": [
        "print(confusion_matrix(y_test, pred_test_dtree))\n",
        "print(classification_report(y_test, pred_test_dtree))"
      ],
      "execution_count": 2070,
      "outputs": [
        {
          "output_type": "stream",
          "text": [
            "[[13  4]\n",
            " [ 2  3]]\n",
            "              precision    recall  f1-score   support\n",
            "\n",
            "          -1       0.87      0.76      0.81        17\n",
            "           1       0.43      0.60      0.50         5\n",
            "\n",
            "    accuracy                           0.73        22\n",
            "   macro avg       0.65      0.68      0.66        22\n",
            "weighted avg       0.77      0.73      0.74        22\n",
            "\n"
          ],
          "name": "stdout"
        }
      ]
    },
    {
      "cell_type": "markdown",
      "metadata": {
        "id": "EGQXgo_rOVIv",
        "colab_type": "text"
      },
      "source": [
        "###Random Forest "
      ]
    },
    {
      "cell_type": "code",
      "metadata": {
        "id": "nU1XtyJ9OYl2",
        "colab_type": "code",
        "outputId": "9a9f0541-33f6-4961-bff4-41f6b8caf1c2",
        "colab": {
          "base_uri": "https://localhost:8080/",
          "height": 153
        }
      },
      "source": [
        "forest=RandomForestClassifier(criterion='entropy',n_estimators=5,random_state=1,n_jobs=2)\n",
        "forest.fit(X_train,y_train)"
      ],
      "execution_count": 2071,
      "outputs": [
        {
          "output_type": "execute_result",
          "data": {
            "text/plain": [
              "RandomForestClassifier(bootstrap=True, ccp_alpha=0.0, class_weight=None,\n",
              "                       criterion='entropy', max_depth=None, max_features='auto',\n",
              "                       max_leaf_nodes=None, max_samples=None,\n",
              "                       min_impurity_decrease=0.0, min_impurity_split=None,\n",
              "                       min_samples_leaf=1, min_samples_split=2,\n",
              "                       min_weight_fraction_leaf=0.0, n_estimators=5, n_jobs=2,\n",
              "                       oob_score=False, random_state=1, verbose=0,\n",
              "                       warm_start=False)"
            ]
          },
          "metadata": {
            "tags": []
          },
          "execution_count": 2071
        }
      ]
    },
    {
      "cell_type": "code",
      "metadata": {
        "id": "Jow0vrnpOaek",
        "colab_type": "code",
        "outputId": "cb54399b-88f7-4738-82cf-647abe5b1bab",
        "colab": {
          "base_uri": "https://localhost:8080/",
          "height": 119
        }
      },
      "source": [
        "pred_train_forest=forest.predict(X_train)\n",
        "pred_test_forest=forest.predict(X_test)\n",
        "print(\"Train set predictions:\\n{}\".format(pred_train_forest))\n",
        "print(\"Test set predictions:\\n{}\".format(pred_test_forest))"
      ],
      "execution_count": 2072,
      "outputs": [
        {
          "output_type": "stream",
          "text": [
            "Train set predictions:\n",
            "[ 1 -1  1  1 -1 -1  1 -1 -1 -1 -1 -1  1 -1  1 -1 -1 -1  1  1  1  1  1  1\n",
            " -1  1  1  1 -1  1 -1 -1 -1 -1 -1  1 -1  1 -1  1  1  1 -1  1  1 -1 -1 -1\n",
            " -1 -1]\n",
            "Test set predictions:\n",
            "[ 1  1 -1 -1 -1 -1  1 -1  1 -1  1 -1 -1  1 -1 -1 -1 -1 -1  1 -1 -1]\n"
          ],
          "name": "stdout"
        }
      ]
    },
    {
      "cell_type": "code",
      "metadata": {
        "id": "VAe5Ac6rOcal",
        "colab_type": "code",
        "outputId": "84028fb1-591a-434a-e394-7303a1b1bc6a",
        "colab": {
          "base_uri": "https://localhost:8080/",
          "height": 51
        }
      },
      "source": [
        "print(\"Accuracy of Random Forest classifier on train set: %.2f\"%accuracy_score(pred_train_forest,y_train))\n",
        "print(\"Accuracy of Random Forest classifier on test set: %.2f\"%accuracy_score(pred_test_forest,y_test))\n",
        "acc[0][4]=accuracy_score(pred_train_forest,y_train)\n",
        "acc[1][4]=accuracy_score(pred_test_forest,y_test)"
      ],
      "execution_count": 2073,
      "outputs": [
        {
          "output_type": "stream",
          "text": [
            "Accuracy of Random Forest classifier on train set: 1.00\n",
            "Accuracy of Random Forest classifier on test set: 0.82\n"
          ],
          "name": "stdout"
        }
      ]
    },
    {
      "cell_type": "code",
      "metadata": {
        "id": "OuOUgsMyOeOd",
        "colab_type": "code",
        "outputId": "cf2181ef-375b-4b3f-e2d1-c3d233e493f1",
        "colab": {
          "base_uri": "https://localhost:8080/",
          "height": 204
        }
      },
      "source": [
        "print(confusion_matrix(y_test, pred_test_forest))\n",
        "print(classification_report(y_test, pred_test_forest))\n"
      ],
      "execution_count": 2074,
      "outputs": [
        {
          "output_type": "stream",
          "text": [
            "[[14  3]\n",
            " [ 1  4]]\n",
            "              precision    recall  f1-score   support\n",
            "\n",
            "          -1       0.93      0.82      0.87        17\n",
            "           1       0.57      0.80      0.67         5\n",
            "\n",
            "    accuracy                           0.82        22\n",
            "   macro avg       0.75      0.81      0.77        22\n",
            "weighted avg       0.85      0.82      0.83        22\n",
            "\n"
          ],
          "name": "stdout"
        }
      ]
    },
    {
      "cell_type": "markdown",
      "metadata": {
        "id": "xKSmO9Y5DyCQ",
        "colab_type": "text"
      },
      "source": [
        "#Plotting Accuracy of Different Modals"
      ]
    },
    {
      "cell_type": "code",
      "metadata": {
        "id": "fJAavznsUX1K",
        "colab_type": "code",
        "outputId": "43dabe8e-b83d-4155-c9f9-c53c51bb36b0",
        "colab": {
          "base_uri": "https://localhost:8080/",
          "height": 585
        }
      },
      "source": [
        "n_groups = 5\n",
        "acc_trn = acc[0]\n",
        "acc_tst = acc[1]\n",
        "\n",
        "# create plot\n",
        "plt.figure(figsize=(15,8))\n",
        "index = np.arange(n_groups)\n",
        "bar_width = 0.35\n",
        "opacity = 0.8\n",
        "def display_percentage(bars):\n",
        "    for graph in bars:\n",
        "        height = graph.get_height()\n",
        "        plt.text(graph.get_x() + graph.get_width()/2., height,'%.3f' %float(round(height,3)),ha='center', va='bottom')\n",
        "\n",
        "train_bar = plt.bar(index, acc_trn, bar_width,alpha=opacity,color='b',label='Training Accuracy')\n",
        "display_percentage(train_bar)\n",
        "\n",
        "test_bar = plt.bar(index + bar_width, acc_tst, bar_width,alpha=opacity,color='g',label='Testing Accuracy')\n",
        "display_percentage(test_bar)\n",
        "\n",
        "plt.xlabel('Models Used')\n",
        "plt.ylabel('Accuracy Value')\n",
        "plt.title(\"Accuracy's Of Different Models\")\n",
        "plt.xticks(index + bar_width, ('Logistic Regression', 'Support Vector Machine', 'K Nearest Neighbours', 'Decision Tree','Random Forest'))\n",
        "plt.legend()\n",
        "\n",
        "plt.tight_layout()\n",
        "plt.show()"
      ],
      "execution_count": 2080,
      "outputs": [
        {
          "output_type": "display_data",
          "data": {
            "image/png": "[encoded data removed]",
            "text/plain": [
              "<Figure size 1080x576 with 1 Axes>"
            ]
          },
          "metadata": {
            "tags": []
          }
        }
      ]
    }
  ]
}