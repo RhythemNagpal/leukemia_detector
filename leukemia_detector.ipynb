{
  "nbformat": 4,
  "nbformat_minor": 0,
  "metadata": {
    "colab": {
      "name": "leukemia_detector.ipynb",
      "provenance": [],
      "collapsed_sections": []
    },
    "kernelspec": {
      "name": "python3",
      "display_name": "Python 3"
    }
  },
  "cells": [
    {
      "cell_type": "markdown",
      "metadata": {
        "id": "StAYz0trsTwI",
        "colab_type": "text"
      },
      "source": [
        "#Leaukemia detection using Soft Computing Techniques"
      ]
    },
    {
      "cell_type": "markdown",
      "metadata": {
        "id": "ThhGThlysrEm",
        "colab_type": "text"
      },
      "source": [
        "##Importing Libraries to be used "
      ]
    },
    {
      "cell_type": "code",
      "metadata": {
        "id": "V17amjp8rs9K",
        "colab_type": "code",
        "colab": {}
      },
      "source": [
        "import numpy as np\n",
        "import matplotlib.pyplot as plt\n",
        "import pandas as pd\n",
        "from sklearn.preprocessing import StandardScaler\n",
        "from sklearn.model_selection import train_test_split\n",
        "from sklearn.neighbors import KNeighborsClassifier\n",
        "from sklearn.tree import DecisionTreeClassifier\n",
        "from sklearn.svm import SVC\n",
        "from sklearn.linear_model import LogisticRegression\n",
        "from sklearn.ensemble import RandomForestClassifier\n",
        "from sklearn.metrics import classification_report,confusion_matrix, accuracy_score"
      ],
      "execution_count": 0,
      "outputs": []
    },
    {
      "cell_type": "code",
      "metadata": {
        "id": "QlpfZvNnsMTg",
        "colab_type": "code",
        "outputId": "b4185057-9043-42c9-9811-5e7307352c3e",
        "colab": {
          "base_uri": "https://localhost:8080/",
          "height": 34
        }
      },
      "source": [
        "! git clone https://github.com/RhythemNagpal/leukemia_detector.git"
      ],
      "execution_count": 0,
      "outputs": [
        {
          "output_type": "stream",
          "text": [
            "fatal: destination path 'leukemia_detector' already exists and is not an empty directory.\n"
          ],
          "name": "stdout"
        }
      ]
    },
    {
      "cell_type": "code",
      "metadata": {
        "id": "IzyYBqhYf3W_",
        "colab_type": "code",
        "outputId": "9a851048-0e89-438a-8ee6-b708c1a8b929",
        "colab": {
          "base_uri": "https://localhost:8080/",
          "height": 253
        }
      },
      "source": [
        "patients = pd.read_csv('leukemia_detector/leukemiaPatients.csv',header=None)\n",
        "patients.head()"
      ],
      "execution_count": 0,
      "outputs": [
        {
          "output_type": "execute_result",
          "data": {
            "text/html": [
              "<div>\n",
              "<style scoped>\n",
              "    .dataframe tbody tr th:only-of-type {\n",
              "        vertical-align: middle;\n",
              "    }\n",
              "\n",
              "    .dataframe tbody tr th {\n",
              "        vertical-align: top;\n",
              "    }\n",
              "\n",
              "    .dataframe thead th {\n",
              "        text-align: right;\n",
              "    }\n",
              "</style>\n",
              "<table border=\"1\" class=\"dataframe\">\n",
              "  <thead>\n",
              "    <tr style=\"text-align: right;\">\n",
              "      <th></th>\n",
              "      <th>0</th>\n",
              "      <th>1</th>\n",
              "      <th>2</th>\n",
              "      <th>3</th>\n",
              "      <th>4</th>\n",
              "      <th>5</th>\n",
              "      <th>6</th>\n",
              "      <th>7</th>\n",
              "      <th>8</th>\n",
              "      <th>9</th>\n",
              "      <th>10</th>\n",
              "      <th>11</th>\n",
              "      <th>12</th>\n",
              "      <th>13</th>\n",
              "      <th>14</th>\n",
              "      <th>15</th>\n",
              "      <th>16</th>\n",
              "      <th>17</th>\n",
              "      <th>18</th>\n",
              "      <th>19</th>\n",
              "      <th>20</th>\n",
              "      <th>21</th>\n",
              "      <th>22</th>\n",
              "      <th>23</th>\n",
              "      <th>24</th>\n",
              "      <th>25</th>\n",
              "      <th>26</th>\n",
              "      <th>27</th>\n",
              "      <th>28</th>\n",
              "      <th>29</th>\n",
              "      <th>30</th>\n",
              "      <th>31</th>\n",
              "      <th>32</th>\n",
              "      <th>33</th>\n",
              "      <th>34</th>\n",
              "      <th>35</th>\n",
              "      <th>36</th>\n",
              "      <th>37</th>\n",
              "      <th>38</th>\n",
              "      <th>39</th>\n",
              "      <th>...</th>\n",
              "      <th>7090</th>\n",
              "      <th>7091</th>\n",
              "      <th>7092</th>\n",
              "      <th>7093</th>\n",
              "      <th>7094</th>\n",
              "      <th>7095</th>\n",
              "      <th>7096</th>\n",
              "      <th>7097</th>\n",
              "      <th>7098</th>\n",
              "      <th>7099</th>\n",
              "      <th>7100</th>\n",
              "      <th>7101</th>\n",
              "      <th>7102</th>\n",
              "      <th>7103</th>\n",
              "      <th>7104</th>\n",
              "      <th>7105</th>\n",
              "      <th>7106</th>\n",
              "      <th>7107</th>\n",
              "      <th>7108</th>\n",
              "      <th>7109</th>\n",
              "      <th>7110</th>\n",
              "      <th>7111</th>\n",
              "      <th>7112</th>\n",
              "      <th>7113</th>\n",
              "      <th>7114</th>\n",
              "      <th>7115</th>\n",
              "      <th>7116</th>\n",
              "      <th>7117</th>\n",
              "      <th>7118</th>\n",
              "      <th>7119</th>\n",
              "      <th>7120</th>\n",
              "      <th>7121</th>\n",
              "      <th>7122</th>\n",
              "      <th>7123</th>\n",
              "      <th>7124</th>\n",
              "      <th>7125</th>\n",
              "      <th>7126</th>\n",
              "      <th>7127</th>\n",
              "      <th>7128</th>\n",
              "      <th>7129</th>\n",
              "    </tr>\n",
              "  </thead>\n",
              "  <tbody>\n",
              "    <tr>\n",
              "      <th>0</th>\n",
              "      <td>1</td>\n",
              "      <td>-4</td>\n",
              "      <td>-116</td>\n",
              "      <td>-125</td>\n",
              "      <td>241</td>\n",
              "      <td>-191</td>\n",
              "      <td>-411</td>\n",
              "      <td>-31</td>\n",
              "      <td>-240</td>\n",
              "      <td>150</td>\n",
              "      <td>24</td>\n",
              "      <td>19</td>\n",
              "      <td>-669</td>\n",
              "      <td>-664</td>\n",
              "      <td>-311</td>\n",
              "      <td>297</td>\n",
              "      <td>353</td>\n",
              "      <td>-96</td>\n",
              "      <td>-291</td>\n",
              "      <td>17878</td>\n",
              "      <td>21</td>\n",
              "      <td>218</td>\n",
              "      <td>-103</td>\n",
              "      <td>52</td>\n",
              "      <td>-242</td>\n",
              "      <td>134</td>\n",
              "      <td>-105</td>\n",
              "      <td>-207</td>\n",
              "      <td>-42</td>\n",
              "      <td>-59</td>\n",
              "      <td>-39</td>\n",
              "      <td>-183</td>\n",
              "      <td>77</td>\n",
              "      <td>-495</td>\n",
              "      <td>-124</td>\n",
              "      <td>-111</td>\n",
              "      <td>51</td>\n",
              "      <td>132</td>\n",
              "      <td>647</td>\n",
              "      <td>1065</td>\n",
              "      <td>...</td>\n",
              "      <td>303</td>\n",
              "      <td>-559</td>\n",
              "      <td>317</td>\n",
              "      <td>585</td>\n",
              "      <td>546</td>\n",
              "      <td>328</td>\n",
              "      <td>16876</td>\n",
              "      <td>13859</td>\n",
              "      <td>1102</td>\n",
              "      <td>375</td>\n",
              "      <td>-105</td>\n",
              "      <td>10547</td>\n",
              "      <td>10235</td>\n",
              "      <td>685</td>\n",
              "      <td>4431</td>\n",
              "      <td>-210</td>\n",
              "      <td>18</td>\n",
              "      <td>403</td>\n",
              "      <td>-31</td>\n",
              "      <td>207</td>\n",
              "      <td>135</td>\n",
              "      <td>86</td>\n",
              "      <td>-228</td>\n",
              "      <td>216</td>\n",
              "      <td>120</td>\n",
              "      <td>247</td>\n",
              "      <td>399</td>\n",
              "      <td>-220</td>\n",
              "      <td>-1651</td>\n",
              "      <td>429</td>\n",
              "      <td>173</td>\n",
              "      <td>755</td>\n",
              "      <td>-23</td>\n",
              "      <td>573</td>\n",
              "      <td>42</td>\n",
              "      <td>987</td>\n",
              "      <td>279</td>\n",
              "      <td>22</td>\n",
              "      <td>662</td>\n",
              "      <td>-46</td>\n",
              "    </tr>\n",
              "    <tr>\n",
              "      <th>1</th>\n",
              "      <td>1</td>\n",
              "      <td>15</td>\n",
              "      <td>-114</td>\n",
              "      <td>2</td>\n",
              "      <td>193</td>\n",
              "      <td>-51</td>\n",
              "      <td>-155</td>\n",
              "      <td>29</td>\n",
              "      <td>-105</td>\n",
              "      <td>42</td>\n",
              "      <td>524</td>\n",
              "      <td>-70</td>\n",
              "      <td>-344</td>\n",
              "      <td>-285</td>\n",
              "      <td>-53</td>\n",
              "      <td>38</td>\n",
              "      <td>-142</td>\n",
              "      <td>-125</td>\n",
              "      <td>-118</td>\n",
              "      <td>26052</td>\n",
              "      <td>-67</td>\n",
              "      <td>121</td>\n",
              "      <td>-69</td>\n",
              "      <td>6</td>\n",
              "      <td>-198</td>\n",
              "      <td>61</td>\n",
              "      <td>-93</td>\n",
              "      <td>-190</td>\n",
              "      <td>-18</td>\n",
              "      <td>-49</td>\n",
              "      <td>-66</td>\n",
              "      <td>-117</td>\n",
              "      <td>-38</td>\n",
              "      <td>-262</td>\n",
              "      <td>-106</td>\n",
              "      <td>-133</td>\n",
              "      <td>-95</td>\n",
              "      <td>-22</td>\n",
              "      <td>202</td>\n",
              "      <td>442</td>\n",
              "      <td>...</td>\n",
              "      <td>99</td>\n",
              "      <td>-17</td>\n",
              "      <td>190</td>\n",
              "      <td>119</td>\n",
              "      <td>390</td>\n",
              "      <td>151</td>\n",
              "      <td>9184</td>\n",
              "      <td>19228</td>\n",
              "      <td>374</td>\n",
              "      <td>61</td>\n",
              "      <td>131</td>\n",
              "      <td>9355</td>\n",
              "      <td>11461</td>\n",
              "      <td>-95</td>\n",
              "      <td>1028</td>\n",
              "      <td>-142</td>\n",
              "      <td>-26</td>\n",
              "      <td>58</td>\n",
              "      <td>-2</td>\n",
              "      <td>113</td>\n",
              "      <td>-30</td>\n",
              "      <td>54</td>\n",
              "      <td>-71</td>\n",
              "      <td>95</td>\n",
              "      <td>59</td>\n",
              "      <td>19</td>\n",
              "      <td>45</td>\n",
              "      <td>-78</td>\n",
              "      <td>-887</td>\n",
              "      <td>314</td>\n",
              "      <td>173</td>\n",
              "      <td>492</td>\n",
              "      <td>54</td>\n",
              "      <td>277</td>\n",
              "      <td>-13</td>\n",
              "      <td>279</td>\n",
              "      <td>51</td>\n",
              "      <td>6</td>\n",
              "      <td>2484</td>\n",
              "      <td>-2</td>\n",
              "    </tr>\n",
              "    <tr>\n",
              "      <th>2</th>\n",
              "      <td>1</td>\n",
              "      <td>-318</td>\n",
              "      <td>-192</td>\n",
              "      <td>-95</td>\n",
              "      <td>312</td>\n",
              "      <td>-139</td>\n",
              "      <td>-344</td>\n",
              "      <td>324</td>\n",
              "      <td>-237</td>\n",
              "      <td>105</td>\n",
              "      <td>167</td>\n",
              "      <td>-50</td>\n",
              "      <td>-820</td>\n",
              "      <td>-231</td>\n",
              "      <td>-273</td>\n",
              "      <td>208</td>\n",
              "      <td>99</td>\n",
              "      <td>-126</td>\n",
              "      <td>-534</td>\n",
              "      <td>11983</td>\n",
              "      <td>-81</td>\n",
              "      <td>114</td>\n",
              "      <td>-67</td>\n",
              "      <td>32</td>\n",
              "      <td>-162</td>\n",
              "      <td>175</td>\n",
              "      <td>-20</td>\n",
              "      <td>-109</td>\n",
              "      <td>31</td>\n",
              "      <td>-23</td>\n",
              "      <td>-21</td>\n",
              "      <td>-246</td>\n",
              "      <td>-31</td>\n",
              "      <td>-589</td>\n",
              "      <td>-353</td>\n",
              "      <td>-314</td>\n",
              "      <td>-435</td>\n",
              "      <td>135</td>\n",
              "      <td>423</td>\n",
              "      <td>45</td>\n",
              "      <td>...</td>\n",
              "      <td>233</td>\n",
              "      <td>12</td>\n",
              "      <td>1034</td>\n",
              "      <td>55</td>\n",
              "      <td>630</td>\n",
              "      <td>1835</td>\n",
              "      <td>21787</td>\n",
              "      <td>15527</td>\n",
              "      <td>385</td>\n",
              "      <td>196</td>\n",
              "      <td>-253</td>\n",
              "      <td>13538</td>\n",
              "      <td>14783</td>\n",
              "      <td>104</td>\n",
              "      <td>3624</td>\n",
              "      <td>-242</td>\n",
              "      <td>-97</td>\n",
              "      <td>386</td>\n",
              "      <td>59</td>\n",
              "      <td>308</td>\n",
              "      <td>32</td>\n",
              "      <td>60</td>\n",
              "      <td>-326</td>\n",
              "      <td>139</td>\n",
              "      <td>-118</td>\n",
              "      <td>247</td>\n",
              "      <td>192</td>\n",
              "      <td>-394</td>\n",
              "      <td>-1634</td>\n",
              "      <td>208</td>\n",
              "      <td>225</td>\n",
              "      <td>737</td>\n",
              "      <td>63</td>\n",
              "      <td>472</td>\n",
              "      <td>33</td>\n",
              "      <td>737</td>\n",
              "      <td>227</td>\n",
              "      <td>-9</td>\n",
              "      <td>371</td>\n",
              "      <td>-31</td>\n",
              "    </tr>\n",
              "    <tr>\n",
              "      <th>3</th>\n",
              "      <td>1</td>\n",
              "      <td>-32</td>\n",
              "      <td>-49</td>\n",
              "      <td>49</td>\n",
              "      <td>230</td>\n",
              "      <td>-367</td>\n",
              "      <td>-508</td>\n",
              "      <td>-349</td>\n",
              "      <td>-194</td>\n",
              "      <td>34</td>\n",
              "      <td>-56</td>\n",
              "      <td>147</td>\n",
              "      <td>-841</td>\n",
              "      <td>-657</td>\n",
              "      <td>-240</td>\n",
              "      <td>-15</td>\n",
              "      <td>227</td>\n",
              "      <td>-166</td>\n",
              "      <td>-453</td>\n",
              "      <td>23508</td>\n",
              "      <td>-126</td>\n",
              "      <td>61</td>\n",
              "      <td>-35</td>\n",
              "      <td>45</td>\n",
              "      <td>-94</td>\n",
              "      <td>125</td>\n",
              "      <td>-125</td>\n",
              "      <td>-171</td>\n",
              "      <td>66</td>\n",
              "      <td>-56</td>\n",
              "      <td>-68</td>\n",
              "      <td>-217</td>\n",
              "      <td>-48</td>\n",
              "      <td>-775</td>\n",
              "      <td>-235</td>\n",
              "      <td>-266</td>\n",
              "      <td>-125</td>\n",
              "      <td>85</td>\n",
              "      <td>295</td>\n",
              "      <td>9042</td>\n",
              "      <td>...</td>\n",
              "      <td>187</td>\n",
              "      <td>-453</td>\n",
              "      <td>338</td>\n",
              "      <td>-39</td>\n",
              "      <td>358</td>\n",
              "      <td>391</td>\n",
              "      <td>21617</td>\n",
              "      <td>17676</td>\n",
              "      <td>852</td>\n",
              "      <td>74</td>\n",
              "      <td>245</td>\n",
              "      <td>10144</td>\n",
              "      <td>9846</td>\n",
              "      <td>190</td>\n",
              "      <td>2633</td>\n",
              "      <td>-230</td>\n",
              "      <td>20</td>\n",
              "      <td>207</td>\n",
              "      <td>-20</td>\n",
              "      <td>132</td>\n",
              "      <td>27</td>\n",
              "      <td>53</td>\n",
              "      <td>-205</td>\n",
              "      <td>319</td>\n",
              "      <td>149</td>\n",
              "      <td>281</td>\n",
              "      <td>306</td>\n",
              "      <td>-442</td>\n",
              "      <td>-2404</td>\n",
              "      <td>385</td>\n",
              "      <td>36</td>\n",
              "      <td>592</td>\n",
              "      <td>57</td>\n",
              "      <td>215</td>\n",
              "      <td>-22</td>\n",
              "      <td>588</td>\n",
              "      <td>361</td>\n",
              "      <td>-26</td>\n",
              "      <td>133</td>\n",
              "      <td>-32</td>\n",
              "    </tr>\n",
              "    <tr>\n",
              "      <th>4</th>\n",
              "      <td>1</td>\n",
              "      <td>-124</td>\n",
              "      <td>-79</td>\n",
              "      <td>-37</td>\n",
              "      <td>330</td>\n",
              "      <td>-188</td>\n",
              "      <td>-423</td>\n",
              "      <td>-31</td>\n",
              "      <td>-223</td>\n",
              "      <td>-82</td>\n",
              "      <td>176</td>\n",
              "      <td>226</td>\n",
              "      <td>-1010</td>\n",
              "      <td>-513</td>\n",
              "      <td>-333</td>\n",
              "      <td>30</td>\n",
              "      <td>177</td>\n",
              "      <td>-69</td>\n",
              "      <td>-411</td>\n",
              "      <td>17996</td>\n",
              "      <td>20</td>\n",
              "      <td>371</td>\n",
              "      <td>-68</td>\n",
              "      <td>6</td>\n",
              "      <td>-134</td>\n",
              "      <td>111</td>\n",
              "      <td>-44</td>\n",
              "      <td>-232</td>\n",
              "      <td>-7</td>\n",
              "      <td>-144</td>\n",
              "      <td>-56</td>\n",
              "      <td>-217</td>\n",
              "      <td>17</td>\n",
              "      <td>-657</td>\n",
              "      <td>-332</td>\n",
              "      <td>-277</td>\n",
              "      <td>-36</td>\n",
              "      <td>123</td>\n",
              "      <td>532</td>\n",
              "      <td>5199</td>\n",
              "      <td>...</td>\n",
              "      <td>385</td>\n",
              "      <td>-1025</td>\n",
              "      <td>705</td>\n",
              "      <td>9230</td>\n",
              "      <td>665</td>\n",
              "      <td>925</td>\n",
              "      <td>24514</td>\n",
              "      <td>14574</td>\n",
              "      <td>1338</td>\n",
              "      <td>67</td>\n",
              "      <td>-56</td>\n",
              "      <td>10373</td>\n",
              "      <td>9002</td>\n",
              "      <td>745</td>\n",
              "      <td>2842</td>\n",
              "      <td>-348</td>\n",
              "      <td>111</td>\n",
              "      <td>330</td>\n",
              "      <td>-19</td>\n",
              "      <td>295</td>\n",
              "      <td>80</td>\n",
              "      <td>109</td>\n",
              "      <td>-54</td>\n",
              "      <td>388</td>\n",
              "      <td>172</td>\n",
              "      <td>292</td>\n",
              "      <td>205</td>\n",
              "      <td>-396</td>\n",
              "      <td>-2525</td>\n",
              "      <td>688</td>\n",
              "      <td>348</td>\n",
              "      <td>938</td>\n",
              "      <td>-15</td>\n",
              "      <td>433</td>\n",
              "      <td>-2</td>\n",
              "      <td>1170</td>\n",
              "      <td>284</td>\n",
              "      <td>39</td>\n",
              "      <td>298</td>\n",
              "      <td>-3</td>\n",
              "    </tr>\n",
              "  </tbody>\n",
              "</table>\n",
              "<p>5 rows × 7130 columns</p>\n",
              "</div>"
            ],
            "text/plain": [
              "   0     1     2     3     4     5     ...  7124  7125  7126  7127  7128  7129\n",
              "0     1    -4  -116  -125   241  -191  ...    42   987   279    22   662   -46\n",
              "1     1    15  -114     2   193   -51  ...   -13   279    51     6  2484    -2\n",
              "2     1  -318  -192   -95   312  -139  ...    33   737   227    -9   371   -31\n",
              "3     1   -32   -49    49   230  -367  ...   -22   588   361   -26   133   -32\n",
              "4     1  -124   -79   -37   330  -188  ...    -2  1170   284    39   298    -3\n",
              "\n",
              "[5 rows x 7130 columns]"
            ]
          },
          "metadata": {
            "tags": []
          },
          "execution_count": 157
        }
      ]
    },
    {
      "cell_type": "code",
      "metadata": {
        "id": "ZisKxaF5gVSm",
        "colab_type": "code",
        "outputId": "9b9fe8da-8ef0-4fc6-d607-bd20392a8a22",
        "colab": {
          "base_uri": "https://localhost:8080/",
          "height": 34
        }
      },
      "source": [
        "print(patients.shape)\n",
        "x=patients.iloc[:,1:]\n",
        "y=patients.iloc[:,0]"
      ],
      "execution_count": 0,
      "outputs": [
        {
          "output_type": "stream",
          "text": [
            "(72, 7130)\n"
          ],
          "name": "stdout"
        }
      ]
    },
    {
      "cell_type": "code",
      "metadata": {
        "id": "nEZZPNB1oV5J",
        "colab_type": "code",
        "outputId": "64c4434d-3df7-4f4e-a705-a719a0aee844",
        "colab": {
          "base_uri": "https://localhost:8080/",
          "height": 425
        }
      },
      "source": [
        "mp={1.0:\"Yes\",-1.0:\"No\"}\n",
        "y=y.map(mp)\n",
        "print(y)\n",
        "print(y_mp)"
      ],
      "execution_count": 0,
      "outputs": [
        {
          "output_type": "stream",
          "text": [
            "0     Yes\n",
            "1     Yes\n",
            "2     Yes\n",
            "3     Yes\n",
            "4     Yes\n",
            "     ... \n",
            "67     No\n",
            "68     No\n",
            "69     No\n",
            "70     No\n",
            "71     No\n",
            "Name: 0, Length: 72, dtype: object\n",
            "0     Yes\n",
            "1     Yes\n",
            "2     Yes\n",
            "3     Yes\n",
            "4     Yes\n",
            "     ... \n",
            "67     No\n",
            "68     No\n",
            "69     No\n",
            "70     No\n",
            "71     No\n",
            "Name: 0, Length: 72, dtype: object\n"
          ],
          "name": "stdout"
        }
      ]
    },
    {
      "cell_type": "markdown",
      "metadata": {
        "id": "Ncr_x947QAv6",
        "colab_type": "text"
      },
      "source": [
        "##Train Test Split"
      ]
    },
    {
      "cell_type": "code",
      "metadata": {
        "id": "TGNz3cx2k5pP",
        "colab_type": "code",
        "colab": {}
      },
      "source": [
        "X_train, X_test, y_train, y_test = train_test_split(x, y, test_size=0.3,random_state=0)"
      ],
      "execution_count": 0,
      "outputs": []
    },
    {
      "cell_type": "markdown",
      "metadata": {
        "id": "A9UpBP35QEbo",
        "colab_type": "text"
      },
      "source": [
        "##Scalling Features"
      ]
    },
    {
      "cell_type": "code",
      "metadata": {
        "id": "ih2Mi0j2QIYf",
        "colab_type": "code",
        "colab": {}
      },
      "source": [
        "sc = StandardScaler()\n",
        "X_train = sc.fit_transform(X_train)\n",
        "X_test = sc.transform(X_test)"
      ],
      "execution_count": 0,
      "outputs": []
    },
    {
      "cell_type": "markdown",
      "metadata": {
        "id": "zYfFqrf4loX-",
        "colab_type": "text"
      },
      "source": [
        "###Logistic Regression"
      ]
    },
    {
      "cell_type": "code",
      "metadata": {
        "id": "8d-Oo8eil83l",
        "colab_type": "code",
        "outputId": "c58ecb4d-34b9-4cfc-8041-69b532cf3c1c",
        "colab": {
          "base_uri": "https://localhost:8080/",
          "height": 102
        }
      },
      "source": [
        "logreg = LogisticRegression()\n",
        "logreg.fit(X_train, y_train)"
      ],
      "execution_count": 0,
      "outputs": [
        {
          "output_type": "execute_result",
          "data": {
            "text/plain": [
              "LogisticRegression(C=1.0, class_weight=None, dual=False, fit_intercept=True,\n",
              "                   intercept_scaling=1, l1_ratio=None, max_iter=100,\n",
              "                   multi_class='auto', n_jobs=None, penalty='l2',\n",
              "                   random_state=None, solver='lbfgs', tol=0.0001, verbose=0,\n",
              "                   warm_start=False)"
            ]
          },
          "metadata": {
            "tags": []
          },
          "execution_count": 162
        }
      ]
    },
    {
      "cell_type": "code",
      "metadata": {
        "id": "ndPGeua3mCCx",
        "colab_type": "code",
        "outputId": "901cc81f-aef5-4451-e607-5f4f2c8f634a",
        "colab": {
          "base_uri": "https://localhost:8080/",
          "height": 68
        }
      },
      "source": [
        "y_pred_LR=logreg.predict(X_test)\n",
        "print(\"Test set predictions:\\n{}\".format(y_pred_LR))"
      ],
      "execution_count": 0,
      "outputs": [
        {
          "output_type": "stream",
          "text": [
            "Test set predictions:\n",
            "['Yes' 'No' 'No' 'Yes' 'No' 'No' 'Yes' 'No' 'Yes' 'No' 'No' 'No' 'No' 'No'\n",
            " 'No' 'No' 'No' 'No' 'No' 'Yes' 'No' 'No']\n"
          ],
          "name": "stdout"
        }
      ]
    },
    {
      "cell_type": "code",
      "metadata": {
        "id": "qrzuEzICmEMm",
        "colab_type": "code",
        "outputId": "389b5723-030e-4da4-fbe4-c06cb49c4c8e",
        "colab": {
          "base_uri": "https://localhost:8080/",
          "height": 51
        }
      },
      "source": [
        "print('Accuracy of Logistic regression classifier on training set: {:.2f}'\n",
        "     .format(logreg.score(X_train, y_train)))\n",
        "print('Accuracy of Logistic regression classifier on test set: {:.2f}'\n",
        "     .format(logreg.score(X_test, y_test)))"
      ],
      "execution_count": 0,
      "outputs": [
        {
          "output_type": "stream",
          "text": [
            "Accuracy of Logistic regression classifier on training set: 1.00\n",
            "Accuracy of Logistic regression classifier on test set: 0.91\n"
          ],
          "name": "stdout"
        }
      ]
    },
    {
      "cell_type": "code",
      "metadata": {
        "id": "faCGNV6FmGys",
        "colab_type": "code",
        "outputId": "2db75a90-46c8-4261-9a0a-27d6f2fb1976",
        "colab": {
          "base_uri": "https://localhost:8080/",
          "height": 204
        }
      },
      "source": [
        "pred_logreg = logreg.predict(X_test)\n",
        "print(confusion_matrix(y_test, pred_logreg))\n",
        "print(classification_report(y_test, pred_logreg))"
      ],
      "execution_count": 0,
      "outputs": [
        {
          "output_type": "stream",
          "text": [
            "[[16  1]\n",
            " [ 1  4]]\n",
            "              precision    recall  f1-score   support\n",
            "\n",
            "          No       0.94      0.94      0.94        17\n",
            "         Yes       0.80      0.80      0.80         5\n",
            "\n",
            "    accuracy                           0.91        22\n",
            "   macro avg       0.87      0.87      0.87        22\n",
            "weighted avg       0.91      0.91      0.91        22\n",
            "\n"
          ],
          "name": "stdout"
        }
      ]
    },
    {
      "cell_type": "markdown",
      "metadata": {
        "id": "-xzrS9w88SOK",
        "colab_type": "text"
      },
      "source": [
        "###Support Vector Machine"
      ]
    },
    {
      "cell_type": "code",
      "metadata": {
        "id": "gnJiNkDH8ny5",
        "colab_type": "code",
        "outputId": "47240034-e044-4dea-905a-0e3d7f7e4155",
        "colab": {
          "base_uri": "https://localhost:8080/",
          "height": 85
        }
      },
      "source": [
        "svm = SVC()\n",
        "svm.fit(X_train, y_train)"
      ],
      "execution_count": 0,
      "outputs": [
        {
          "output_type": "execute_result",
          "data": {
            "text/plain": [
              "SVC(C=1.0, break_ties=False, cache_size=200, class_weight=None, coef0=0.0,\n",
              "    decision_function_shape='ovr', degree=3, gamma='scale', kernel='rbf',\n",
              "    max_iter=-1, probability=False, random_state=None, shrinking=True,\n",
              "    tol=0.001, verbose=False)"
            ]
          },
          "metadata": {
            "tags": []
          },
          "execution_count": 166
        }
      ]
    },
    {
      "cell_type": "code",
      "metadata": {
        "id": "A0yk_AUx9Pl6",
        "colab_type": "code",
        "outputId": "c689093f-e514-42f8-fb2f-4404aec4f93d",
        "colab": {
          "base_uri": "https://localhost:8080/",
          "height": 68
        }
      },
      "source": [
        "y_pred_svm=svm.predict(X_test)\n",
        "print(\"Test set predictions:\\n{}\".format(y_pred_svm))"
      ],
      "execution_count": 0,
      "outputs": [
        {
          "output_type": "stream",
          "text": [
            "Test set predictions:\n",
            "['Yes' 'No' 'No' 'Yes' 'No' 'No' 'Yes' 'No' 'Yes' 'No' 'Yes' 'No' 'No'\n",
            " 'No' 'No' 'No' 'No' 'No' 'No' 'Yes' 'Yes' 'No']\n"
          ],
          "name": "stdout"
        }
      ]
    },
    {
      "cell_type": "code",
      "metadata": {
        "id": "6eTY0k9S9U4-",
        "colab_type": "code",
        "outputId": "cd381ff8-403f-4cae-8b2a-d011cdbce716",
        "colab": {
          "base_uri": "https://localhost:8080/",
          "height": 51
        }
      },
      "source": [
        "print('Accuracy of SVM classifier on training set: {:.2f}'\n",
        "     .format(svm.score(X_train, y_train)))\n",
        "print('Accuracy of SVM classifier on test set: {:.2f}'\n",
        "     .format(svm.score(X_test, y_test)))"
      ],
      "execution_count": 0,
      "outputs": [
        {
          "output_type": "stream",
          "text": [
            "Accuracy of SVM classifier on training set: 1.00\n",
            "Accuracy of SVM classifier on test set: 0.82\n"
          ],
          "name": "stdout"
        }
      ]
    },
    {
      "cell_type": "code",
      "metadata": {
        "id": "_Qyb0Huo9ZdV",
        "colab_type": "code",
        "outputId": "634e432f-239f-47fd-9afa-cd727ea5243c",
        "colab": {
          "base_uri": "https://localhost:8080/",
          "height": 204
        }
      },
      "source": [
        "pred_svm = svm.predict(X_test)\n",
        "print(confusion_matrix(y_test, pred_svm))\n",
        "print(classification_report(y_test, pred_svm))\n"
      ],
      "execution_count": 0,
      "outputs": [
        {
          "output_type": "stream",
          "text": [
            "[[14  3]\n",
            " [ 1  4]]\n",
            "              precision    recall  f1-score   support\n",
            "\n",
            "          No       0.93      0.82      0.87        17\n",
            "         Yes       0.57      0.80      0.67         5\n",
            "\n",
            "    accuracy                           0.82        22\n",
            "   macro avg       0.75      0.81      0.77        22\n",
            "weighted avg       0.85      0.82      0.83        22\n",
            "\n"
          ],
          "name": "stdout"
        }
      ]
    },
    {
      "cell_type": "markdown",
      "metadata": {
        "id": "gSMuVYqB9dom",
        "colab_type": "text"
      },
      "source": [
        "###KNearestNeighbours"
      ]
    },
    {
      "cell_type": "code",
      "metadata": {
        "id": "vaTrGaHJ9jfn",
        "colab_type": "code",
        "outputId": "4f8a702e-fcd6-4885-b330-dd0d84aebc05",
        "colab": {
          "base_uri": "https://localhost:8080/",
          "height": 68
        }
      },
      "source": [
        "knn=KNeighborsClassifier(n_neighbors=8)\n",
        "knn.fit(X_train,y_train)"
      ],
      "execution_count": 0,
      "outputs": [
        {
          "output_type": "execute_result",
          "data": {
            "text/plain": [
              "KNeighborsClassifier(algorithm='auto', leaf_size=30, metric='minkowski',\n",
              "                     metric_params=None, n_jobs=None, n_neighbors=8, p=2,\n",
              "                     weights='uniform')"
            ]
          },
          "metadata": {
            "tags": []
          },
          "execution_count": 170
        }
      ]
    },
    {
      "cell_type": "code",
      "metadata": {
        "id": "pu_09Ni19l6m",
        "colab_type": "code",
        "outputId": "b94db244-a931-4222-98a4-45fd12aca9eb",
        "colab": {
          "base_uri": "https://localhost:8080/",
          "height": 68
        }
      },
      "source": [
        "y_pred_knn=knn.predict(X_test)\n",
        "print(\"Test set predictions:\\n{}\".format(y_pred_knn))"
      ],
      "execution_count": 0,
      "outputs": [
        {
          "output_type": "stream",
          "text": [
            "Test set predictions:\n",
            "['No' 'No' 'No' 'No' 'No' 'No' 'No' 'No' 'Yes' 'No' 'No' 'No' 'No' 'No'\n",
            " 'No' 'No' 'No' 'No' 'No' 'Yes' 'Yes' 'No']\n"
          ],
          "name": "stdout"
        }
      ]
    },
    {
      "cell_type": "code",
      "metadata": {
        "id": "U3rFJzgs9oCu",
        "colab_type": "code",
        "outputId": "6dc969cf-7aa5-43c0-bad2-422f33ea238f",
        "colab": {
          "base_uri": "https://localhost:8080/",
          "height": 51
        }
      },
      "source": [
        "print('Accuracy of KNN classifier on training set: {:.2f}'\n",
        "     .format(knn.score(X_train, y_train)))\n",
        "print('Accuracy of KNN classifier on test set: {:.2f}'\n",
        "     .format(knn.score(X_test, y_test)))"
      ],
      "execution_count": 0,
      "outputs": [
        {
          "output_type": "stream",
          "text": [
            "Accuracy of KNN classifier on training set: 0.80\n",
            "Accuracy of KNN classifier on test set: 0.73\n"
          ],
          "name": "stdout"
        }
      ]
    },
    {
      "cell_type": "code",
      "metadata": {
        "id": "BwAZnbya97Gk",
        "colab_type": "code",
        "outputId": "9c705f59-8c2e-4b25-cf41-6741035381f5",
        "colab": {
          "base_uri": "https://localhost:8080/",
          "height": 381
        }
      },
      "source": [
        "k_range = range(1, 20)\n",
        "scores = []\n",
        "for k in k_range:\n",
        "    knn = KNeighborsClassifier(n_neighbors = k)\n",
        "    knn.fit(X_train, y_train)\n",
        "    scores.append(knn.score(X_test, y_test))\n",
        "plt.figure()\n",
        "plt.xlabel('k')\n",
        "plt.ylabel('accuracy')\n",
        "plt.scatter(k_range, scores)\n",
        "plt.xticks([0,5,10,15,20])"
      ],
      "execution_count": 0,
      "outputs": [
        {
          "output_type": "execute_result",
          "data": {
            "text/plain": [
              "([<matplotlib.axis.XTick at 0x7f316db3e240>,\n",
              "  <matplotlib.axis.XTick at 0x7f316db3ef98>,\n",
              "  <matplotlib.axis.XTick at 0x7f316d63e438>,\n",
              "  <matplotlib.axis.XTick at 0x7f316d6afb38>,\n",
              "  <matplotlib.axis.XTick at 0x7f316d6afd68>],\n",
              " <a list of 5 Text major ticklabel objects>)"
            ]
          },
          "metadata": {
            "tags": []
          },
          "execution_count": 173
        },
        {
          "output_type": "display_data",
          "data": {
            "image/png": "[encoded data removed]",
            "text/plain": [
              "<Figure size 432x288 with 1 Axes>"
            ]
          },
          "metadata": {
            "tags": []
          }
        }
      ]
    },
    {
      "cell_type": "code",
      "metadata": {
        "id": "ob7RjoZh-AzG",
        "colab_type": "code",
        "outputId": "72128659-f731-4d84-9895-ade73f557ff7",
        "colab": {
          "base_uri": "https://localhost:8080/",
          "height": 204
        }
      },
      "source": [
        "pred_knn = knn.predict(X_test)\n",
        "print(confusion_matrix(y_test, pred_knn))\n",
        "print(classification_report(y_test, pred_knn))"
      ],
      "execution_count": 0,
      "outputs": [
        {
          "output_type": "stream",
          "text": [
            "[[16  1]\n",
            " [ 4  1]]\n",
            "              precision    recall  f1-score   support\n",
            "\n",
            "          No       0.80      0.94      0.86        17\n",
            "         Yes       0.50      0.20      0.29         5\n",
            "\n",
            "    accuracy                           0.77        22\n",
            "   macro avg       0.65      0.57      0.58        22\n",
            "weighted avg       0.73      0.77      0.73        22\n",
            "\n"
          ],
          "name": "stdout"
        }
      ]
    },
    {
      "cell_type": "markdown",
      "metadata": {
        "id": "k33KruQiNkWu",
        "colab_type": "text"
      },
      "source": [
        "###Decision Tree"
      ]
    },
    {
      "cell_type": "code",
      "metadata": {
        "id": "5bOhadi5No3G",
        "colab_type": "code",
        "outputId": "e7b387b8-370a-433a-d4e8-a2af071030b4",
        "colab": {
          "base_uri": "https://localhost:8080/",
          "height": 119
        }
      },
      "source": [
        "dtree = DecisionTreeClassifier()\n",
        "dtree.fit(X_train, y_train)"
      ],
      "execution_count": 0,
      "outputs": [
        {
          "output_type": "execute_result",
          "data": {
            "text/plain": [
              "DecisionTreeClassifier(ccp_alpha=0.0, class_weight=None, criterion='gini',\n",
              "                       max_depth=None, max_features=None, max_leaf_nodes=None,\n",
              "                       min_impurity_decrease=0.0, min_impurity_split=None,\n",
              "                       min_samples_leaf=1, min_samples_split=2,\n",
              "                       min_weight_fraction_leaf=0.0, presort='deprecated',\n",
              "                       random_state=None, splitter='best')"
            ]
          },
          "metadata": {
            "tags": []
          },
          "execution_count": 175
        }
      ]
    },
    {
      "cell_type": "code",
      "metadata": {
        "id": "-qwIP64pNxop",
        "colab_type": "code",
        "outputId": "2284bdc3-b9ab-4883-8e31-8e93c6a7922d",
        "colab": {
          "base_uri": "https://localhost:8080/",
          "height": 68
        }
      },
      "source": [
        "pred_dtree = dtree.predict(X_test)\n",
        "print(\"Test set predictions:\\n{}\".format(pred_dtree))"
      ],
      "execution_count": 0,
      "outputs": [
        {
          "output_type": "stream",
          "text": [
            "Test set predictions:\n",
            "['Yes' 'No' 'No' 'Yes' 'No' 'No' 'No' 'Yes' 'No' 'No' 'No' 'No' 'No' 'No'\n",
            " 'No' 'No' 'No' 'No' 'No' 'No' 'No' 'No']\n"
          ],
          "name": "stdout"
        }
      ]
    },
    {
      "cell_type": "code",
      "metadata": {
        "id": "HO9MF_YhOR40",
        "colab_type": "code",
        "outputId": "0d3aeafe-d7fc-4875-8f82-239137370e0a",
        "colab": {
          "base_uri": "https://localhost:8080/",
          "height": 51
        }
      },
      "source": [
        "print('Accuracy of Decision Tree classifier on training set: {:.2f}'\n",
        "     .format(dtree.score(X_train, y_train)))\n",
        "print('Accuracy of Decision Tree classifier on test set: {:.2f}'\n",
        "     .format(dtree.score(X_test, y_test)))"
      ],
      "execution_count": 0,
      "outputs": [
        {
          "output_type": "stream",
          "text": [
            "Accuracy of Decision Tree classifier on training set: 1.00\n",
            "Accuracy of Decision Tree classifier on test set: 0.82\n"
          ],
          "name": "stdout"
        }
      ]
    },
    {
      "cell_type": "code",
      "metadata": {
        "id": "sALe1u3VOT54",
        "colab_type": "code",
        "outputId": "348ab733-d37a-44f1-c544-3776585d5ae8",
        "colab": {
          "base_uri": "https://localhost:8080/",
          "height": 204
        }
      },
      "source": [
        "print(confusion_matrix(y_test, pred_dtree))\n",
        "print(classification_report(y_test, pred_dtree))"
      ],
      "execution_count": 0,
      "outputs": [
        {
          "output_type": "stream",
          "text": [
            "[[16  1]\n",
            " [ 3  2]]\n",
            "              precision    recall  f1-score   support\n",
            "\n",
            "          No       0.84      0.94      0.89        17\n",
            "         Yes       0.67      0.40      0.50         5\n",
            "\n",
            "    accuracy                           0.82        22\n",
            "   macro avg       0.75      0.67      0.69        22\n",
            "weighted avg       0.80      0.82      0.80        22\n",
            "\n"
          ],
          "name": "stdout"
        }
      ]
    },
    {
      "cell_type": "markdown",
      "metadata": {
        "id": "EGQXgo_rOVIv",
        "colab_type": "text"
      },
      "source": [
        "###Random Forest "
      ]
    },
    {
      "cell_type": "code",
      "metadata": {
        "id": "nU1XtyJ9OYl2",
        "colab_type": "code",
        "outputId": "b8a9dd9e-ced2-40f5-c3da-8ff8f946ae7a",
        "colab": {
          "base_uri": "https://localhost:8080/",
          "height": 153
        }
      },
      "source": [
        "forest=RandomForestClassifier(criterion='entropy',n_estimators=10,random_state=1,n_jobs=2)\n",
        "forest.fit(X_train,y_train)"
      ],
      "execution_count": 0,
      "outputs": [
        {
          "output_type": "execute_result",
          "data": {
            "text/plain": [
              "RandomForestClassifier(bootstrap=True, ccp_alpha=0.0, class_weight=None,\n",
              "                       criterion='entropy', max_depth=None, max_features='auto',\n",
              "                       max_leaf_nodes=None, max_samples=None,\n",
              "                       min_impurity_decrease=0.0, min_impurity_split=None,\n",
              "                       min_samples_leaf=1, min_samples_split=2,\n",
              "                       min_weight_fraction_leaf=0.0, n_estimators=10, n_jobs=2,\n",
              "                       oob_score=False, random_state=1, verbose=0,\n",
              "                       warm_start=False)"
            ]
          },
          "metadata": {
            "tags": []
          },
          "execution_count": 179
        }
      ]
    },
    {
      "cell_type": "code",
      "metadata": {
        "id": "Jow0vrnpOaek",
        "colab_type": "code",
        "outputId": "555d9747-e9c3-4f4c-b409-96745703b9b6",
        "colab": {
          "base_uri": "https://localhost:8080/",
          "height": 68
        }
      },
      "source": [
        "pred_forest=forest.predict(X_test)\n",
        "print(\"Test set predictions:\\n{}\".format(pred_forest))"
      ],
      "execution_count": 0,
      "outputs": [
        {
          "output_type": "stream",
          "text": [
            "Test set predictions:\n",
            "['Yes' 'No' 'No' 'Yes' 'No' 'No' 'Yes' 'No' 'No' 'No' 'No' 'No' 'No' 'No'\n",
            " 'No' 'No' 'No' 'No' 'No' 'No' 'No' 'No']\n"
          ],
          "name": "stdout"
        }
      ]
    },
    {
      "cell_type": "code",
      "metadata": {
        "id": "VAe5Ac6rOcal",
        "colab_type": "code",
        "outputId": "abfb027c-6562-4484-96cf-36b595498f6e",
        "colab": {
          "base_uri": "https://localhost:8080/",
          "height": 51
        }
      },
      "source": [
        "print('Accuracy of Decision Tree classifier on training set: {:.2f}'\n",
        "     .format(forest.score(X_train, y_train)))\n",
        "print('Accuracy of Decision Tree classifier on test set: {:.2f}'\n",
        "     .format(forest.score(X_test, y_test)))"
      ],
      "execution_count": 0,
      "outputs": [
        {
          "output_type": "stream",
          "text": [
            "Accuracy of Decision Tree classifier on training set: 0.98\n",
            "Accuracy of Decision Tree classifier on test set: 0.91\n"
          ],
          "name": "stdout"
        }
      ]
    },
    {
      "cell_type": "code",
      "metadata": {
        "id": "OuOUgsMyOeOd",
        "colab_type": "code",
        "outputId": "38969629-537f-497e-b192-e20c6c721e31",
        "colab": {
          "base_uri": "https://localhost:8080/",
          "height": 204
        }
      },
      "source": [
        "print(confusion_matrix(y_test, pred_forest))\n",
        "print(classification_report(y_test, pred_forest))\n"
      ],
      "execution_count": 0,
      "outputs": [
        {
          "output_type": "stream",
          "text": [
            "[[17  0]\n",
            " [ 2  3]]\n",
            "              precision    recall  f1-score   support\n",
            "\n",
            "          No       0.89      1.00      0.94        17\n",
            "         Yes       1.00      0.60      0.75         5\n",
            "\n",
            "    accuracy                           0.91        22\n",
            "   macro avg       0.95      0.80      0.85        22\n",
            "weighted avg       0.92      0.91      0.90        22\n",
            "\n"
          ],
          "name": "stdout"
        }
      ]
    }
  ]
}